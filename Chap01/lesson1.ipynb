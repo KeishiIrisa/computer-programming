{
 "cells": [
  {
   "cell_type": "code",
   "execution_count": 6,
   "id": "3285c849-3356-453a-96d1-7d8b8a3eabc3",
   "metadata": {},
   "outputs": [
    {
     "name": "stdout",
     "output_type": "stream",
     "text": [
      "hello\n"
     ]
    }
   ],
   "source": [
    "print(\"hello\")"
   ]
  },
  {
   "cell_type": "code",
   "execution_count": 1,
   "id": "4353644d-8295-454c-9f98-a7d1a270f15b",
   "metadata": {},
   "outputs": [
    {
     "name": "stdout",
     "output_type": "stream",
     "text": [
      "hello\n"
     ]
    }
   ],
   "source": [
    "def main():\n",
    "    print(\"hello\")\n",
    "\n",
    "main()"
   ]
  },
  {
   "cell_type": "code",
   "execution_count": 2,
   "id": "5282c667",
   "metadata": {},
   "outputs": [
    {
     "name": "stdout",
     "output_type": "stream",
     "text": [
      "hello2\n"
     ]
    }
   ],
   "source": [
    "def second():\n",
    "    print(\"hello2\")\n",
    "\n",
    "second()\n"
   ]
  },
  {
   "cell_type": "code",
   "execution_count": 4,
   "id": "f7e9b532",
   "metadata": {},
   "outputs": [
    {
     "name": "stdout",
     "output_type": "stream",
     "text": [
      "this is message keishi\n"
     ]
    },
    {
     "name": "stdout",
     "output_type": "stream",
     "text": [
      "keishi\n"
     ]
    }
   ],
   "source": [
    "x = input(\"this is message\")\n",
    "\n",
    "print(x)"
   ]
  },
  {
   "cell_type": "code",
   "execution_count": 1,
   "id": "ff16f1fb",
   "metadata": {},
   "outputs": [
    {
     "ename": "SyntaxError",
     "evalue": "expected ':' (4135119119.py, line 3)",
     "output_type": "error",
     "traceback": [
      "\u001b[0;36m  Cell \u001b[0;32mIn[1], line 3\u001b[0;36m\u001b[0m\n\u001b[0;31m    for i in range(9)\u001b[0m\n\u001b[0m                     ^\u001b[0m\n\u001b[0;31mSyntaxError\u001b[0m\u001b[0;31m:\u001b[0m expected ':'\n"
     ]
    }
   ],
   "source": [
    "x = input()\n",
    "y = x\n",
    "\n",
    "for i in range(9):\n",
    "    x += y\n",
    "    \n",
    "    if i == 8:\n",
    "        x += \"!\"\n",
    "    \n",
    "print(x)\n",
    "\n",
    "\n",
    "    \n"
   ]
  },
  {
   "cell_type": "code",
   "execution_count": 6,
   "id": "bca0c50a-c7ef-4640-8526-a2c110bcdbe1",
   "metadata": {},
   "outputs": [
    {
     "name": "stdout",
     "output_type": "stream",
     "text": [
      " keishi?\n"
     ]
    },
    {
     "name": "stdout",
     "output_type": "stream",
     "text": [
      "keishi??\n"
     ]
    }
   ],
   "source": [
    "x = input()\n",
    "\n",
    "print(x + \"?\")"
   ]
  },
  {
   "cell_type": "code",
   "execution_count": 2,
   "id": "05a70159",
   "metadata": {},
   "outputs": [
    {
     "ename": "ValueError",
     "evalue": "'駒場東大前駅' is not in list",
     "output_type": "error",
     "traceback": [
      "\u001b[0;31m---------------------------------------------------------------------------\u001b[0m",
      "\u001b[0;31mValueError\u001b[0m                                Traceback (most recent call last)",
      "Cell \u001b[0;32mIn[2], line 4\u001b[0m\n\u001b[1;32m      1\u001b[0m input_string \u001b[38;5;241m=\u001b[39m \u001b[38;5;28minput\u001b[39m()\n\u001b[1;32m      2\u001b[0m inokashira_list \u001b[38;5;241m=\u001b[39m input_string\u001b[38;5;241m.\u001b[39msplit(\u001b[38;5;124m\"\u001b[39m\u001b[38;5;124m,\u001b[39m\u001b[38;5;124m\"\u001b[39m)\n\u001b[0;32m----> 4\u001b[0m i \u001b[38;5;241m=\u001b[39m inokashira_list\u001b[38;5;241m.\u001b[39mindex(\u001b[38;5;124m\"\u001b[39m\u001b[38;5;124m駒場東大前駅\u001b[39m\u001b[38;5;124m\"\u001b[39m)\n\u001b[1;32m      5\u001b[0m new_inokashira_list \u001b[38;5;241m=\u001b[39m inokashira_list[:i] \u001b[38;5;241m+\u001b[39m [\u001b[38;5;124m\"\u001b[39m\u001b[38;5;124m駒場駅\u001b[39m\u001b[38;5;124m\"\u001b[39m, \u001b[38;5;124m\"\u001b[39m\u001b[38;5;124m東大前駅\u001b[39m\u001b[38;5;124m\"\u001b[39m] \u001b[38;5;241m+\u001b[39m inokashira_list[i \u001b[38;5;241m+\u001b[39m \u001b[38;5;241m1\u001b[39m:]\n\u001b[1;32m      7\u001b[0m \u001b[38;5;28mprint\u001b[39m(new_inokashira_list)\n",
      "\u001b[0;31mValueError\u001b[0m: '駒場東大前駅' is not in list"
     ]
    }
   ],
   "source": [
    "input_string = input()\n",
    "inokashira_list = input_string.split(\",\")\n",
    "\n",
    "i = inokashira_list.index(\"駒場東大前駅\")\n",
    "new_inokashira_list = inokashira_list[:i] + [\"駒場駅\", \"東大前駅\"] + inokashira_list[i + 1:]\n",
    "\n",
    "print(new_inokashira_list)"
   ]
  }
 ],
 "metadata": {
  "kernelspec": {
   "display_name": "Python 3 (ipykernel)",
   "language": "python",
   "name": "python3"
  },
  "language_info": {
   "codemirror_mode": {
    "name": "ipython",
    "version": 3
   },
   "file_extension": ".py",
   "mimetype": "text/x-python",
   "name": "python",
   "nbconvert_exporter": "python",
   "pygments_lexer": "ipython3",
   "version": "3.11.7"
  }
 },
 "nbformat": 4,
 "nbformat_minor": 5
}
