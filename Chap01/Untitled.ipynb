{
 "cells": [
  {
   "cell_type": "code",
   "execution_count": 1,
   "id": "79efe1c3-e377-447f-bfeb-121b4b304fa6",
   "metadata": {},
   "outputs": [
    {
     "name": "stdin",
     "output_type": "stream",
     "text": [
      " 渋谷駅,神泉駅,駒場東大前駅,池ノ上駅,下北沢駅,新代田駅,東松原駅,明大前駅,永福町駅,西永福駅,浜田 山駅,高井戸駅,富士見ヶ丘駅,久我山駅,三鷹台駅,井の頭公園駅,吉祥寺駅\n"
     ]
    },
    {
     "name": "stdout",
     "output_type": "stream",
     "text": [
      "['渋谷駅', '神泉駅', '駒場駅', '東大前駅', '池ノ上駅', '下北沢駅', '新代田駅', '東松原駅', '明大前駅', '永福町駅', '西永福駅', '浜田 山駅', '高井戸駅', '富士見ヶ丘駅', '久我山駅', '三鷹台駅', '井の頭公園駅', '吉祥寺駅']\n"
     ]
    }
   ],
   "source": [
    "input_string = input()\n",
    "inokashira_list = input_string.split(\",\")\n",
    "\n",
    "i = inokashira_list.index(\"駒場東大前駅\")\n",
    "new_inokashira_list = inokashira_list[:i] + [\"駒場駅\", \"東大前駅\"] + inokashira_list[i + 1:]\n",
    "\n",
    "print(new_inokashira_list)"
   ]
  },
  {
   "cell_type": "code",
   "execution_count": 5,
   "id": "4c390b02-cc7d-4d60-b6e6-24d296f30595",
   "metadata": {},
   "outputs": [
    {
     "name": "stdin",
     "output_type": "stream",
     "text": [
      " 渋谷駅,神泉駅,駒場東大前駅,池ノ上駅,下北沢駅,新代田駅,東松原駅,明大前駅,永福町駅,西永福駅,浜田山駅,高井戸駅,富士見ヶ丘駅,久我山駅,三鷹台駅,井の頭公園駅,吉祥寺駅,boundary,渋谷駅,下北沢駅,明大前駅,永福町駅,久我山駅,吉祥寺駅\n"
     ]
    },
    {
     "name": "stdout",
     "output_type": "stream",
     "text": [
      "['神泉駅', '駒場東大前駅', '池ノ上駅', '新代田駅', '東松原駅', '西永福駅', '浜田山駅', '高井戸駅', '富士見ヶ丘駅', '三鷹台駅', '井の頭公園駅']\n"
     ]
    }
   ],
   "source": [
    "input_string = input().split(\",\")\n",
    "\n",
    "# boundaryのindexを調べて、井の頭線の駅のリストと急行が止まる駅のリストに分割する\n",
    "i = input_string.index(\"boundary\")\n",
    "inokashira_list, inokashira_express_list = input_string[:i], input_string[i + 1:]\n",
    "\n",
    "# 急行に止まらない駅のリストを作成する\n",
    "inokashira_non_express_list = [j for j in inokashira_list if j not in inokashira_express_list]\n",
    "        \n",
    "print(inokashira_non_express_list)"
   ]
  },
  {
   "cell_type": "code",
   "execution_count": 7,
   "id": "68d7d3d8-fb64-45ac-9075-c956eb71c2a2",
   "metadata": {},
   "outputs": [
    {
     "name": "stdin",
     "output_type": "stream",
     "text": [
      " 品川駅,大崎駅,五反田駅,目黒駅,恵比寿駅,渋谷駅,原宿駅,代々木駅,新宿駅,新大久保駅,高田馬場駅,目白駅,池袋駅,大塚駅,巣鴨駅,駒込駅,田端駅,西日暮里駅,日暮里駅,鶯谷駅,上野駅,御徒町駅, 秋葉原駅,神田駅,東京駅,有楽町駅,新橋駅,浜松町駅,田町駅,高輪ゲートウェイ,boundary,渋谷駅,神泉駅,駒場東大前駅,池ノ上駅,下北沢駅,新代田駅,東松原駅,明大前駅,永福町駅,西永福駅,浜田山駅,高井戸駅,富士見ヶ丘駅,久我山駅,三鷹台駅,井の頭公園駅,吉祥寺駅\n"
     ]
    },
    {
     "name": "stdout",
     "output_type": "stream",
     "text": [
      "['品川駅', '大崎駅', '五反田駅', '目黒駅', '恵比寿駅', '渋谷駅', '神泉駅', '駒場東大前駅', '池ノ上駅', '下北沢駅', '新代田駅', '東松原駅', '明大前駅', '永福町駅', '西永福駅', '浜田山駅', '高井戸駅', '富士見ヶ丘駅', '久我山駅', '三鷹台駅', '井の頭公園駅', '吉祥寺駅']\n"
     ]
    }
   ],
   "source": [
    "input_string = input().split(\",\")\n",
    "\n",
    "i = input_string.index(\"boundary\")\n",
    "line1, line2 = input_string[:i], input_string[i + 1:]\n",
    "\n",
    "# 乗り換え駅を見つける\n",
    "transfer_station = [station for station in line1 if station in line2]\n",
    "\n",
    "full_route = line1[:line1.index(transfer_station[0]) + 1] + line2[line2.index(transfer_station[0]) + 1:]\n",
    "\n",
    "print(full_route)"
   ]
  },
  {
   "cell_type": "code",
   "execution_count": 12,
   "id": "16a58341-c3a6-4e4a-9275-c4a10c3013e4",
   "metadata": {},
   "outputs": [
    {
     "name": "stdin",
     "output_type": "stream",
     "text": [
      " 渋谷駅,池尻大橋駅,三軒茶屋駅,駒沢大学駅,桜新町駅,用賀駅,二子玉川駅,二子新地駅,高津駅,溝の口駅,梶が谷駅,宮崎台駅,宮前平駅,鷺沼駅,たまプラーザ駅,あざみ野駅,江田駅,市が尾駅,藤が丘駅,青葉台駅,田奈駅,長津田駅,つくし野駅,すずかけ台駅,南町田グランベリーパーク駅,つきみ野駅,中央林間駅,boundary,渋谷駅,三軒茶屋駅,二子玉川駅,溝の口駅,鷺沼駅,たまプラーザ駅,あざみ野駅,青葉台駅,長津田駅,南町田グランベリーパーク駅,中央林間駅\n"
     ]
    },
    {
     "name": "stdout",
     "output_type": "stream",
     "text": [
      "[1, 3, 2, 3, 0, 0, 3, 1, 2, 1]\n"
     ]
    }
   ],
   "source": [
    "input_string = input().split(\",\")\n",
    "i = input_string.index(\"boundary\")\n",
    "stations, express_station = input_string[:i], input_string[i + 1:]\n",
    "\n",
    "# 急行が止まる駅のindexのリストを作成\n",
    "express_index = [stations.index(station) for station in stations if station in express_station]\n",
    "\n",
    "# express_indexの差分のリストを作成\n",
    "express_index_difference_list = [express_index[i + 1] - express_index[i] - 1 for i in range(len(express_index) - 1)]\n",
    "\n",
    "print(express_index_difference_list)"
   ]
  },
  {
   "cell_type": "code",
   "execution_count": null,
   "id": "853c5a48-dbfc-4764-b211-12cf7f33f030",
   "metadata": {},
   "outputs": [],
   "source": [
    "0,4,[1,2,3,4,5,6,7,8]"
   ]
  },
  {
   "cell_type": "code",
   "execution_count": 34,
   "id": "36e8c3ee-5d84-4ea8-9a52-de709d69775a",
   "metadata": {},
   "outputs": [
    {
     "name": "stdin",
     "output_type": "stream",
     "text": [
      " 0,4,[1,2,3,4,5,6,7,8]\n"
     ]
    },
    {
     "name": "stdout",
     "output_type": "stream",
     "text": [
      "[5, 4, 3, 2, 1, 6, 7, 8]\n"
     ]
    }
   ],
   "source": [
    "import copy\n",
    "\n",
    "input_string = input().replace(\"[\", \"\").replace(\"]\", \"\").split(\",\")\n",
    "i, j = map(int, input_string[:2])\n",
    "x = list(map(int, input_string[2:]))\n",
    "\n",
    "# リストの反転\n",
    "f = copy.copy(x[i:j+1])\n",
    "f.reverse()\n",
    "new_x = x[:i] + f + x[j+1:]\n",
    "\n",
    "print(new_x)"
   ]
  },
  {
   "cell_type": "code",
   "execution_count": null,
   "id": "80dfb3fb-524e-48f1-bc1b-dc0054862eb5",
   "metadata": {},
   "outputs": [],
   "source": []
  }
 ],
 "metadata": {
  "kernelspec": {
   "display_name": "Python 3 (ipykernel)",
   "language": "python",
   "name": "python3"
  },
  "language_info": {
   "codemirror_mode": {
    "name": "ipython",
    "version": 3
   },
   "file_extension": ".py",
   "mimetype": "text/x-python",
   "name": "python",
   "nbconvert_exporter": "python",
   "pygments_lexer": "ipython3",
   "version": "3.11.7"
  }
 },
 "nbformat": 4,
 "nbformat_minor": 5
}
