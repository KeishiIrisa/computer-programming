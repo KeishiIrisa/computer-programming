{
 "cells": [
  {
   "cell_type": "code",
   "execution_count": 3,
   "metadata": {},
   "outputs": [
    {
     "ename": "KeyboardInterrupt",
     "evalue": "Interrupted by user",
     "output_type": "error",
     "traceback": [
      "\u001b[0;31m---------------------------------------------------------------------------\u001b[0m",
      "\u001b[0;31mKeyboardInterrupt\u001b[0m                         Traceback (most recent call last)",
      "Cell \u001b[0;32mIn[3], line 1\u001b[0m\n\u001b[0;32m----> 1\u001b[0m input_string \u001b[38;5;241m=\u001b[39m \u001b[38;5;28minput\u001b[39m()\n\u001b[1;32m      2\u001b[0m inokashira_list \u001b[38;5;241m=\u001b[39m input_string\u001b[38;5;241m.\u001b[39msplit(\u001b[38;5;124m\"\u001b[39m\u001b[38;5;124m,\u001b[39m\u001b[38;5;124m\"\u001b[39m)\n\u001b[1;32m      4\u001b[0m i \u001b[38;5;241m=\u001b[39m inokashira_list\u001b[38;5;241m.\u001b[39mindex(\u001b[38;5;124m\"\u001b[39m\u001b[38;5;124m駒場東大前駅\u001b[39m\u001b[38;5;124m\"\u001b[39m)\n",
      "File \u001b[0;32m/opt/anaconda3/lib/python3.11/site-packages/ipykernel/kernelbase.py:1262\u001b[0m, in \u001b[0;36mKernel.raw_input\u001b[0;34m(self, prompt)\u001b[0m\n\u001b[1;32m   1260\u001b[0m     msg \u001b[38;5;241m=\u001b[39m \u001b[38;5;124m\"\u001b[39m\u001b[38;5;124mraw_input was called, but this frontend does not support input requests.\u001b[39m\u001b[38;5;124m\"\u001b[39m\n\u001b[1;32m   1261\u001b[0m     \u001b[38;5;28;01mraise\u001b[39;00m StdinNotImplementedError(msg)\n\u001b[0;32m-> 1262\u001b[0m \u001b[38;5;28;01mreturn\u001b[39;00m \u001b[38;5;28mself\u001b[39m\u001b[38;5;241m.\u001b[39m_input_request(\n\u001b[1;32m   1263\u001b[0m     \u001b[38;5;28mstr\u001b[39m(prompt),\n\u001b[1;32m   1264\u001b[0m     \u001b[38;5;28mself\u001b[39m\u001b[38;5;241m.\u001b[39m_parent_ident[\u001b[38;5;124m\"\u001b[39m\u001b[38;5;124mshell\u001b[39m\u001b[38;5;124m\"\u001b[39m],\n\u001b[1;32m   1265\u001b[0m     \u001b[38;5;28mself\u001b[39m\u001b[38;5;241m.\u001b[39mget_parent(\u001b[38;5;124m\"\u001b[39m\u001b[38;5;124mshell\u001b[39m\u001b[38;5;124m\"\u001b[39m),\n\u001b[1;32m   1266\u001b[0m     password\u001b[38;5;241m=\u001b[39m\u001b[38;5;28;01mFalse\u001b[39;00m,\n\u001b[1;32m   1267\u001b[0m )\n",
      "File \u001b[0;32m/opt/anaconda3/lib/python3.11/site-packages/ipykernel/kernelbase.py:1305\u001b[0m, in \u001b[0;36mKernel._input_request\u001b[0;34m(self, prompt, ident, parent, password)\u001b[0m\n\u001b[1;32m   1302\u001b[0m \u001b[38;5;28;01mexcept\u001b[39;00m \u001b[38;5;167;01mKeyboardInterrupt\u001b[39;00m:\n\u001b[1;32m   1303\u001b[0m     \u001b[38;5;66;03m# re-raise KeyboardInterrupt, to truncate traceback\u001b[39;00m\n\u001b[1;32m   1304\u001b[0m     msg \u001b[38;5;241m=\u001b[39m \u001b[38;5;124m\"\u001b[39m\u001b[38;5;124mInterrupted by user\u001b[39m\u001b[38;5;124m\"\u001b[39m\n\u001b[0;32m-> 1305\u001b[0m     \u001b[38;5;28;01mraise\u001b[39;00m \u001b[38;5;167;01mKeyboardInterrupt\u001b[39;00m(msg) \u001b[38;5;28;01mfrom\u001b[39;00m \u001b[38;5;28;01mNone\u001b[39;00m\n\u001b[1;32m   1306\u001b[0m \u001b[38;5;28;01mexcept\u001b[39;00m \u001b[38;5;167;01mException\u001b[39;00m:\n\u001b[1;32m   1307\u001b[0m     \u001b[38;5;28mself\u001b[39m\u001b[38;5;241m.\u001b[39mlog\u001b[38;5;241m.\u001b[39mwarning(\u001b[38;5;124m\"\u001b[39m\u001b[38;5;124mInvalid Message:\u001b[39m\u001b[38;5;124m\"\u001b[39m, exc_info\u001b[38;5;241m=\u001b[39m\u001b[38;5;28;01mTrue\u001b[39;00m)\n",
      "\u001b[0;31mKeyboardInterrupt\u001b[0m: Interrupted by user"
     ]
    }
   ],
   "source": [
    "input_string = input()\n",
    "inokashira_list = input_string.split(\",\")\n",
    "\n",
    "i = inokashira_list.index(\"駒場東大前駅\")\n",
    "new_inokashira_list = inokashira_list[:i] + [\"駒場駅\", \"東大前駅\"] + inokashira_list[i + 1:]\n",
    "\n",
    "print(new_inokashira_list)"
   ]
  },
  {
   "cell_type": "code",
   "execution_count": 8,
   "metadata": {},
   "outputs": [
    {
     "name": "stdout",
     "output_type": "stream",
     "text": [
      "['渋谷駅', '神泉駅', '駒場駅', '東大前駅', '池ノ上駅', '下北沢駅', '新代田駅', '東松原駅', '明大前駅', '永福町駅', '西永福駅', '浜田山駅', '高井戸駅', '富士見ヶ丘駅', '久我山駅', '三鷹台駅', '井の頭公園駅', '吉祥寺駅', '藤咲宮前駅', '黒髪町駅', '北熊本駅', '亀井駅', '八景水谷駅']\n"
     ]
    }
   ],
   "source": [
    "\"\"\"\n",
    "prog_1:改善点報告\n",
    "課題1-5で問題文に入力の二つのリストの間には「boundary」という文字列があるとする。という指定があるのにも関わらず、入力例にはそれが含まれていなかったため、入力として「boundary」を含む二つのリスト{string}を与えたときにも正しく動作するように改善したプログラムを作成した。\n",
    "\"\"\"\n",
    "\n",
    "\n",
    "input_string = input()\n",
    "stations = input_string.split(\",\")\n",
    "\n",
    "\n",
    "def change_to_komaba_todaimae(station_list):\n",
    "    i = station_list.index(\"駒場東大前駅\")\n",
    "    new_station_list = station_list[:i] + [\"駒場駅\", \"東大前駅\"] + station_list[i + 1:]\n",
    "\n",
    "    return new_station_list\n",
    "\n",
    "\n",
    "# 入力されたリストに\"boundary\"の文字列がある場合とない場合で処理を分岐させる\n",
    "if \"boundary\" in stations:\n",
    "\n",
    "    # \"boundary\"によってリストを二つのリストに分割する\n",
    "\n",
    "    i_boundary = stations.index(\"boundary\")\n",
    "    separated_stations = [stations[:i_boundary], stations[i_boundary+1:]]\n",
    "\n",
    "    # \"駒場東大前駅\"が入っている場合にのみ\"駒場駅\"と\"東大前駅\"に分割する\n",
    "    new_stations = []\n",
    "\n",
    "    for station in separated_stations:\n",
    "        if \"駒場東大前駅\" in station:\n",
    "            new_stations += (change_to_komaba_todaimae(station))\n",
    "        else:\n",
    "            new_stations += station\n",
    "\n",
    "    print(new_stations)\n",
    "\n",
    "else:\n",
    "    if \"駒場東大前駅\" in stations:\n",
    "        print(change_to_komaba_todaimae(stations))\n",
    "    else:\n",
    "        print(stations)"
   ]
  }
 ],
 "metadata": {
  "kernelspec": {
   "display_name": "Python 3 (ipykernel)",
   "language": "python",
   "name": "python3"
  },
  "language_info": {
   "codemirror_mode": {
    "name": "ipython",
    "version": 3
   },
   "file_extension": ".py",
   "mimetype": "text/x-python",
   "name": "python",
   "nbconvert_exporter": "python",
   "pygments_lexer": "ipython3",
   "version": "3.11.7"
  }
 },
 "nbformat": 4,
 "nbformat_minor": 2
}
