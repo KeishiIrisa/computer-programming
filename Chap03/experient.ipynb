{
 "cells": [
  {
   "cell_type": "code",
   "execution_count": 7,
   "metadata": {},
   "outputs": [
    {
     "name": "stdout",
     "output_type": "stream",
     "text": [
      "5\n"
     ]
    }
   ],
   "source": [
    "class Node:\n",
    "    def __init__(self, x):\n",
    "        self.value = x\n",
    "        self.left = None\n",
    "        self.right = None\n",
    "\n",
    "    def __str__(self):\n",
    "        if self.value is None:\n",
    "            return \"\"\n",
    "        return self.value\n",
    "\n",
    "    def set_nodes(self, x, y):\n",
    "        if not isinstance(x, Node) or not isinstance(y, Node):\n",
    "            return NotImplemented\n",
    "\n",
    "        self.left, self.right = x, y\n",
    "        return self\n",
    "\n",
    "\n",
    "glb_count = []\n",
    "\n",
    "\n",
    "def preorder(n):\n",
    "    if n is None:\n",
    "        return glb_count\n",
    "    else:\n",
    "        glb_count.append(0)\n",
    "        preorder(n.left)\n",
    "        preorder(n.right)\n",
    "\n",
    "\n",
    "class Tree():\n",
    "    def __init__(self, root_node):\n",
    "        self.root = root_node\n",
    "    \n",
    "    def size(self):\n",
    "        if self.root is None:\n",
    "            return 0\n",
    "        else:\n",
    "            preorder(self.root)\n",
    "            return len(glb_count)\n",
    "\n",
    "\n",
    "exec(input())\n"
   ]
  }
 ],
 "metadata": {
  "kernelspec": {
   "display_name": "base",
   "language": "python",
   "name": "python3"
  },
  "language_info": {
   "codemirror_mode": {
    "name": "ipython",
    "version": 3
   },
   "file_extension": ".py",
   "mimetype": "text/x-python",
   "name": "python",
   "nbconvert_exporter": "python",
   "pygments_lexer": "ipython3",
   "version": "3.11.7"
  }
 },
 "nbformat": 4,
 "nbformat_minor": 2
}
