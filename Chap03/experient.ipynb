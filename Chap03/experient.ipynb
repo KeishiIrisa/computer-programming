{
 "cells": [
  {
   "cell_type": "code",
   "execution_count": 26,
   "metadata": {},
   "outputs": [
    {
     "name": "stdout",
     "output_type": "stream",
     "text": [
      "0\n"
     ]
    }
   ],
   "source": [
    "class Node:\n",
    "    def __init__(self, x):\n",
    "        self.value = x\n",
    "        self.left = None\n",
    "        self.right = None\n",
    "\n",
    "    def __str__(self):\n",
    "        if self.value is None:\n",
    "            return \"\"\n",
    "        return self.value\n",
    "\n",
    "    def set_nodes(self, x, y):\n",
    "        if not isinstance(x, Node) or not isinstance(y, Node):\n",
    "            return NotImplemented\n",
    "\n",
    "        self.left, self.right = x, y\n",
    "        return self\n",
    "\n",
    "\n",
    "glb_count = []\n",
    "glb_sequence_inorder = []\n",
    "\n",
    "\n",
    "def preorder(n):\n",
    "    if n is None:\n",
    "        return glb_count\n",
    "    else:\n",
    "        glb_count.append(0)\n",
    "        preorder(n.left)\n",
    "        preorder(n.right)\n",
    "\n",
    "\n",
    "def inorder(n, is_left):\n",
    "    if n is None:\n",
    "        return \n",
    "    elif is_left:\n",
    "        inorder(n.left, True)\n",
    "        glb_sequence_inorder.extend([\"(\", n.value])\n",
    "        inorder(n.right, False)\n",
    "    elif not is_left and n.value in [\"+\", \"-\", \"*\", \"%\"]:\n",
    "        inorder(n.left, True)\n",
    "        glb_sequence_inorder.append(n.value)\n",
    "        inorder(n.right, False)\n",
    "    else:\n",
    "        glb_sequence_inorder.append(n.value)\n",
    "        for i in range(glb_sequence_inorder.count(\"(\")):\n",
    "            glb_sequence_inorder.append(\")\")\n",
    "        \n",
    "\n",
    "class Tree():\n",
    "    def __init__(self, root_node):\n",
    "        self.root = root_node\n",
    " \n",
    "    def  __str__(self):\n",
    "        if self.root is None:\n",
    "            return \"\"\n",
    "        else:\n",
    "            inorder(self.root, False)\n",
    "            return \"\".join(glb_sequence_inorder)\n",
    "    \n",
    "    def size(self):\n",
    "        if self.root is None:\n",
    "            return 0\n",
    "        else:\n",
    "            preorder(self.root)\n",
    "            return len(glb_count)\n",
    "\n",
    "    def height(self):\n",
    "        if self.root is None:\n",
    "            return -1\n",
    "        else:\n",
    "            inorder(self.root, False)\n",
    "            return glb_sequence_inorder.count(\")\")\n",
    "\n",
    "exec(input())\n"
   ]
  }
 ],
 "metadata": {
  "kernelspec": {
   "display_name": "base",
   "language": "python",
   "name": "python3"
  },
  "language_info": {
   "codemirror_mode": {
    "name": "ipython",
    "version": 3
   },
   "file_extension": ".py",
   "mimetype": "text/x-python",
   "name": "python",
   "nbconvert_exporter": "python",
   "pygments_lexer": "ipython3",
   "version": "3.11.7"
  }
 },
 "nbformat": 4,
 "nbformat_minor": 2
}
