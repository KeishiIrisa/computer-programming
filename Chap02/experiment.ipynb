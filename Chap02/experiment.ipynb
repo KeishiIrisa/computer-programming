{
 "cells": [
  {
   "cell_type": "code",
   "execution_count": 2,
   "metadata": {},
   "outputs": [
    {
     "name": "stdout",
     "output_type": "stream",
     "text": [
      "no such station exists.\n"
     ]
    }
   ],
   "source": [
    "class Line:\n",
    "    def __init__(self, arr1, arr2):\n",
    "        self.arr1 = arr1\n",
    "        self.arr2 = arr2\n",
    "    \n",
    "    def next(self, s):\n",
    "        print(str(self.arr1[self.arr1.index(s) + 1]))\n",
    "    \n",
    "    def prev(self, s):\n",
    "        print(str(self.arr1[self.arr1.index(s) - 1]))\n",
    "    \n",
    "    def next_exp(self, s):\n",
    "        print(str(self.arr2[self.arr2.index(s) + 1]))\n",
    "    \n",
    "    def prev_exp(self, s):\n",
    "        print(str(self.arr2[self.arr2.index(s) - 1]))\n",
    "\n",
    "\n",
    "class Line2(Line):\n",
    "    def next(self, s):\n",
    "        if s not in self.arr1:\n",
    "            print(\"no such station exists.\")\n",
    "        elif s == self.arr1[-1]:\n",
    "            print(\"input is a terminal station.\")\n",
    "        else:\n",
    "            super().next(s)\n",
    "    \n",
    "    def prev(self, s):\n",
    "        if s not in self.arr1:\n",
    "            print(\"no such station exists.\")\n",
    "        elif s == self.arr1[0]:\n",
    "            print(\"input is a terminal station.\")\n",
    "        else:\n",
    "            super().prev(s)\n",
    "\n",
    "    def next_exp(self, s):\n",
    "        if s not in self.arr1:\n",
    "            print(\"no such station exists.\")\n",
    "        elif s not in self.arr2:\n",
    "            print(\"express does not stop at this station.\")\n",
    "        elif s == self.arr2[-1]:\n",
    "            print(\"input is a terminal station.\")\n",
    "        else:\n",
    "            super().next_exp(s)\n",
    "\n",
    "    def prev_exp(self, s):\n",
    "        if s not in self.arr1:\n",
    "            print(\"no such station exists.\")\n",
    "        elif s not in self.arr2:\n",
    "            print(\"express does not stop at this station.\")\n",
    "        elif s == self.arr2[0]:\n",
    "            print(\"input is a terminal station.\")\n",
    "        else:\n",
    "            super().prev_exp(s)\n",
    "\n",
    "\n",
    "exec(input())"
   ]
  }
 ],
 "metadata": {
  "kernelspec": {
   "display_name": "base",
   "language": "python",
   "name": "python3"
  },
  "language_info": {
   "codemirror_mode": {
    "name": "ipython",
    "version": 3
   },
   "file_extension": ".py",
   "mimetype": "text/x-python",
   "name": "python",
   "nbconvert_exporter": "python",
   "pygments_lexer": "ipython3",
   "version": "3.11.7"
  }
 },
 "nbformat": 4,
 "nbformat_minor": 2
}
