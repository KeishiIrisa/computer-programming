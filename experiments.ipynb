{
 "cells": [
  {
   "cell_type": "code",
   "execution_count": 5,
   "metadata": {},
   "outputs": [
    {
     "name": "stdout",
     "output_type": "stream",
     "text": [
      "Theta ranges from 46.1 to 90 degrees.\n"
     ]
    }
   ],
   "source": [
    "import math\n",
    "\n",
    "# sin(theta)の範囲を定義\n",
    "lower_bound = 0.72\n",
    "upper_bound = 1.0\n",
    "\n",
    "# thetaの範囲を計算\n",
    "lower_theta = math.asin(lower_bound)\n",
    "upper_theta = math.asin(upper_bound)\n",
    "\n",
    "# ラジアンから度に変換\n",
    "lower_theta_degrees = math.degrees(lower_theta)\n",
    "upper_theta_degrees = math.degrees(upper_theta)\n",
    "\n",
    "print(f'Theta ranges from {format(lower_theta_degrees, \".3g\")} to {format(upper_theta_degrees, \".3g\")} degrees.')"
   ]
  }
 ],
 "metadata": {
  "kernelspec": {
   "display_name": "Python 3 (ipykernel)",
   "language": "python",
   "name": "python3"
  },
  "language_info": {
   "codemirror_mode": {
    "name": "ipython",
    "version": 3
   },
   "file_extension": ".py",
   "mimetype": "text/x-python",
   "name": "python",
   "nbconvert_exporter": "python",
   "pygments_lexer": "ipython3",
   "version": "3.11.7"
  }
 },
 "nbformat": 4,
 "nbformat_minor": 4
}
