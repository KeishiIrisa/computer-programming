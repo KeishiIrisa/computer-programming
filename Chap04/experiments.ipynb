{
 "cells": [
  {
   "cell_type": "code",
   "execution_count": 46,
   "metadata": {},
   "outputs": [
    {
     "name": "stdout",
     "output_type": "stream",
     "text": [
      "\n"
     ]
    }
   ],
   "source": [
    "class Node:\n",
    "    def __init__(self, x):\n",
    "        self.value = x\n",
    "        self.left = None\n",
    "        self.right = None\n",
    "\n",
    "    def __str__(self):\n",
    "        if self.value in \"+-*\":\n",
    "            return f\"({self.left}{self.value}{self.right})\"\n",
    "        return str(self.value)\n",
    "\n",
    "    def set_nodes(self, x, y):\n",
    "        if not isinstance(x, Node) or not isinstance(y, Node):\n",
    "            return NotImplemented\n",
    "\n",
    "        self.left, self.right = x, y\n",
    "        return self\n",
    "\n",
    "\n",
    "class Tree():\n",
    "    def __init__(self, root_node):\n",
    "        self.root = root_node\n",
    " \n",
    "    def __str__(self):\n",
    "        if self.root is None:\n",
    "            return \"\"\n",
    "        return str(self.root)\n",
    "    \n",
    "    def size(self):\n",
    "        return self._size(self.root)\n",
    "\n",
    "    def _size(self, node):\n",
    "        if node is None:\n",
    "            return 0\n",
    "        else:\n",
    "            return self._size(node.left) + 1 + self._size(node.right)\n",
    "\n",
    "\n",
    "exec(input())\n"
   ]
  }
 ],
 "metadata": {
  "kernelspec": {
   "display_name": "base",
   "language": "python",
   "name": "python3"
  },
  "language_info": {
   "codemirror_mode": {
    "name": "ipython",
    "version": 3
   },
   "file_extension": ".py",
   "mimetype": "text/x-python",
   "name": "python",
   "nbconvert_exporter": "python",
   "pygments_lexer": "ipython3",
   "version": "3.11.7"
  }
 },
 "nbformat": 4,
 "nbformat_minor": 2
}
