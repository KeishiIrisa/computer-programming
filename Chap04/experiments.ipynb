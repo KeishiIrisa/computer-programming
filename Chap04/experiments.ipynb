{
 "cells": [
  {
   "cell_type": "code",
   "execution_count": 13,
   "metadata": {},
   "outputs": [
    {
     "name": "stdout",
     "output_type": "stream",
     "text": [
      "((4*5)-4)\n"
     ]
    }
   ],
   "source": [
    "class Node:\n",
    "    def __init__(self, x):\n",
    "        self.value = x\n",
    "        self.left = None\n",
    "        self.right = None\n",
    "\n",
    "    def __str__(self):\n",
    "        if self.value in \"+-*\":\n",
    "            return f\"({self.left}{self.value}{self.right})\"\n",
    "        return str(self.value)\n",
    "\n",
    "\n",
    "    def set_nodes(self, x, y):\n",
    "        if not isinstance(x, Node) or not isinstance(y, Node):\n",
    "            return NotImplemented\n",
    "\n",
    "        self.left, self.right = x, y\n",
    "        return self\n",
    "\n",
    "class Tree():\n",
    "    def __init__(self, root_node):\n",
    "        self.root = root_node\n",
    " \n",
    "    def __str__(self):\n",
    "        return str(self.root)\n",
    "    \n",
    "    def size(self):\n",
    "        return self._size(self.root)\n",
    "\n",
    "    def _size(self, node):\n",
    "        if node is None:\n",
    "            return 0\n",
    "        else:\n",
    "            return self._size(node.left) + 1 + self._size(node.right)\n",
    "\n",
    "    def height(self):\n",
    "        return self._height(self.root)\n",
    "\n",
    "    def _height(self, node):\n",
    "        if node is None:\n",
    "            return -1\n",
    "        else:\n",
    "            left_height = self._height(node.left)\n",
    "            right_height = self._height(node.right)\n",
    "            return 1 + max(left_height, right_height)\n",
    "    \n",
    "    def parse_postorder_string(self, line):\n",
    "        node_array = [Node(x) for x in line.split(\" \")]\n",
    "        stack = []\n",
    "        for n in node_array:\n",
    "            if n.value in \"+-*\":\n",
    "                right, left = stack.pop(), stack.pop()\n",
    "                stack.append(n.set_nodes(left, right))\n",
    "            else:\n",
    "                stack.append(n)\n",
    "        self.root = stack.pop()\n",
    "        return self\n",
    "\n",
    "\n",
    "exec(input())\n"
   ]
  }
 ],
 "metadata": {
  "kernelspec": {
   "display_name": "base",
   "language": "python",
   "name": "python3"
  },
  "language_info": {
   "codemirror_mode": {
    "name": "ipython",
    "version": 3
   },
   "file_extension": ".py",
   "mimetype": "text/x-python",
   "name": "python",
   "nbconvert_exporter": "python",
   "pygments_lexer": "ipython3",
   "version": "3.11.7"
  }
 },
 "nbformat": 4,
 "nbformat_minor": 2
}
